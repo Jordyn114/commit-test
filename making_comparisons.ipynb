{
  "cells": [
    {
      "cell_type": "markdown",
      "metadata": {
        "id": "view-in-github",
        "colab_type": "text"
      },
      "source": [
        "<a href=\"https://colab.research.google.com/github/Jordyn114/commit-test/blob/master/making_comparisons.ipynb\" target=\"_parent\"><img src=\"https://colab.research.google.com/assets/colab-badge.svg\" alt=\"Open In Colab\"/></a>"
      ]
    },
    {
      "cell_type": "markdown",
      "metadata": {
        "id": "fi4GEQruAsWn"
      },
      "source": [
        "If you're running this in Google Colab, you can click \"Copy to Drive\" (above &#8593;) or go to **File > Save a Copy in Drive** so you'll have your own version to work on. That requires a Google login.  \n",
        "<hr/>\n",
        "\n",
        "# Analyzing Measurement Uncertainty   \n",
        "We'll use Dr. Natasha Holmes's *Statistics Summary* (linked in the course website) as a guide for how to analyze data in this course. This notebook shows how to do use python to do the calculations in section II *Statistics for Repeated Measurements with Statistical Variation* and section III *Making Comparisons*.\n",
        "\n",
        "If you need to start over from scratch, open a [clean copy of this activity](https://colab.research.google.com/github/adamlamee/UCF_labs/blob/master/making_comparisons.ipynb). If you need a refresher on how to execute this notebook, try the [intro activity](https://colab.research.google.com/github/adamlamee/UCF_labs/blob/master/intro.ipynb).    \n",
        "\n",
        "## II. Statistics for Repeated Measurements with Statistical Variation"
      ]
    },
    {
      "cell_type": "code",
      "execution_count": 1,
      "metadata": {
        "id": "mfUi3s0mAsW1"
      },
      "outputs": [],
      "source": [
        "import numpy as np                   # numpy does math\n",
        "import matplotlib.pyplot as plt      # pyplot makes plots"
      ]
    },
    {
      "cell_type": "code",
      "execution_count": 20,
      "metadata": {
        "id": "Ee6m_puwAsW4",
        "outputId": "2e8b1143-efbf-40c6-ca35-2e1ea469fba3",
        "colab": {
          "base_uri": "https://localhost:8080/",
          "height": 265
        }
      },
      "outputs": [
        {
          "output_type": "display_data",
          "data": {
            "text/plain": [
              "<Figure size 432x288 with 1 Axes>"
            ],
            "image/png": "[encoded data removed]"
          },
          "metadata": {
            "needs_background": "light"
          }
        }
      ],
      "source": [
        "# you can change the measurements and histogram properties\n",
        "# keep the same format (e.g., brackets and commas) to avoid errors\n",
        "\n",
        "sample_a = [151.54, 150.97, 162.93]               # some measurements from sample A\n",
        "sample_b = [88.61, 87.73, 100.31]               # some measurements from trial B to compare\n",
        "plt.hist((sample_a, sample_b), bins=5, range=[80,170], color=('blue','red'));   # makes a histogram"
      ]
    },
    {
      "cell_type": "code",
      "execution_count": 21,
      "metadata": {
        "id": "hkGx6g8xAsW5",
        "outputId": "7bc42c4b-90c7-4c27-efd8-1a1ca7ba3413",
        "colab": {
          "base_uri": "https://localhost:8080/"
        }
      },
      "outputs": [
        {
          "output_type": "execute_result",
          "data": {
            "text/plain": [
              "155.14666666666668"
            ]
          },
          "metadata": {},
          "execution_count": 21
        }
      ],
      "source": [
        "a_mean = np.mean(sample_a)   # calculates the mean of sample a, saves it as a variable names \"a_mean\"\n",
        "a_mean                       # displays the mean value you just calculated"
      ]
    },
    {
      "cell_type": "code",
      "execution_count": 22,
      "metadata": {
        "id": "IfNFjav4AsW7",
        "outputId": "c9c3ab44-7a04-4e04-e2d3-0fa18acbb686",
        "colab": {
          "base_uri": "https://localhost:8080/"
        }
      },
      "outputs": [
        {
          "output_type": "execute_result",
          "data": {
            "text/plain": [
              "92.21666666666665"
            ]
          },
          "metadata": {},
          "execution_count": 22
        }
      ],
      "source": [
        "# try adding code here to find the mean of sample b\n",
        "# copy and paste are a programmers best friends, but rename your variables\n",
        "b_mean = np.mean(sample_b)   # calculates the mean of sample a, saves it as a variable names \"a_mean\"\n",
        "b_mean "
      ]
    },
    {
      "cell_type": "code",
      "execution_count": 23,
      "metadata": {
        "id": "UwMnAWHJAsW8",
        "outputId": "f062b511-b831-4528-e75c-dee1411f74fb",
        "colab": {
          "base_uri": "https://localhost:8080/"
        }
      },
      "outputs": [
        {
          "output_type": "execute_result",
          "data": {
            "text/plain": [
              "6.746586791358532"
            ]
          },
          "metadata": {},
          "execution_count": 23
        }
      ],
      "source": [
        "a_stdev = np.std(sample_a, ddof=1)      # finds the standard deviation\n",
        "a_stdev"
      ]
    },
    {
      "cell_type": "code",
      "execution_count": 24,
      "metadata": {
        "id": "ilBz7qnFAsW-",
        "outputId": "b1905dbe-37af-4685-8aae-b06eb784c384",
        "colab": {
          "base_uri": "https://localhost:8080/"
        }
      },
      "outputs": [
        {
          "output_type": "execute_result",
          "data": {
            "text/plain": [
              "7.0228294392882225"
            ]
          },
          "metadata": {},
          "execution_count": 24
        }
      ],
      "source": [
        "# try that again for sample b's standard deviation\n",
        "b_stdev = np.std(sample_b, ddof=1)      # finds the standard deviation\n",
        "b_stdev"
      ]
    },
    {
      "cell_type": "code",
      "execution_count": 25,
      "metadata": {
        "id": "yQb59BbeAsXC",
        "outputId": "5f134a11-351c-4747-ff14-3c182cae2a3c",
        "colab": {
          "base_uri": "https://localhost:8080/"
        }
      },
      "outputs": [
        {
          "output_type": "execute_result",
          "data": {
            "text/plain": [
              "3"
            ]
          },
          "metadata": {},
          "execution_count": 25
        }
      ],
      "source": [
        "a_count = len(sample_a)      # \"a_count\" is now a variable with the number of observations in sample a\n",
        "a_count"
      ]
    },
    {
      "cell_type": "code",
      "execution_count": 26,
      "metadata": {
        "id": "pF0qYbVLAsXE",
        "outputId": "a24c3123-9fcf-418f-d96b-29f262e3a40e",
        "colab": {
          "base_uri": "https://localhost:8080/"
        }
      },
      "outputs": [
        {
          "output_type": "execute_result",
          "data": {
            "text/plain": [
              "3"
            ]
          },
          "metadata": {},
          "execution_count": 26
        }
      ],
      "source": [
        "# now count the observations in sample b\n",
        "b_count = len(sample_b)      # \"a_count\" is now a variable with the number of observations in sample a\n",
        "b_count"
      ]
    },
    {
      "cell_type": "code",
      "execution_count": 27,
      "metadata": {
        "id": "O4Pn3Bt1AsXF",
        "outputId": "a551d76b-bdcf-43bc-8f31-0af5c6c93015",
        "colab": {
          "base_uri": "https://localhost:8080/"
        }
      },
      "outputs": [
        {
          "output_type": "execute_result",
          "data": {
            "text/plain": [
              "3.895143700102022"
            ]
          },
          "metadata": {},
          "execution_count": 27
        }
      ],
      "source": [
        "# finding standard uncertainty\n",
        "a_stunc = a_stdev / np.sqrt(a_count)       # python can do algebra\n",
        "a_stunc"
      ]
    },
    {
      "cell_type": "code",
      "execution_count": 28,
      "metadata": {
        "id": "3RbKF2reAsXH",
        "outputId": "60c61fd4-0f40-479c-8177-6e4c24454431",
        "colab": {
          "base_uri": "https://localhost:8080/"
        }
      },
      "outputs": [
        {
          "output_type": "execute_result",
          "data": {
            "text/plain": [
              "4.054632467245884"
            ]
          },
          "metadata": {},
          "execution_count": 28
        }
      ],
      "source": [
        "# how about sample b's standard uncertainty?\n",
        "b_stunc = b_stdev / np.sqrt(b_count)       # python can do algebra\n",
        "b_stunc"
      ]
    },
    {
      "cell_type": "markdown",
      "metadata": {
        "id": "Psjej628AsXM"
      },
      "source": [
        "## III. Comparing Means"
      ]
    },
    {
      "cell_type": "code",
      "execution_count": 29,
      "metadata": {
        "id": "yKpVUTnvAsXb",
        "outputId": "cf354a91-0383-45e0-9591-179d25bae0f9",
        "colab": {
          "base_uri": "https://localhost:8080/"
        }
      },
      "outputs": [
        {
          "output_type": "execute_result",
          "data": {
            "text/plain": [
              "11.192586195226232"
            ]
          },
          "metadata": {},
          "execution_count": 29
        }
      ],
      "source": [
        "# t' statistic\n",
        "# for the code below to work, you'll need to have done the calculations for sample b above, too\n",
        "t_prime = abs((a_mean - b_mean) / np.sqrt(a_stunc**2 + b_stunc**2))\n",
        "t_prime"
      ]
    },
    {
      "cell_type": "markdown",
      "metadata": {
        "id": "ruSu4oqSAsXc"
      },
      "source": [
        "Nicely done. If you found a t' of about 1.1, congrats! If not, check your math or start over with a [clean copy of this activity](https://colab.research.google.com/github/adamlamee/UCF_labs/blob/master/making_comparisons.ipynb).  \n",
        "\n",
        "\n",
        "# IV. Plotting the Results  \n",
        "Two options for plotting your data are given below.\n",
        "\n",
        "A **scatterplot** is pretty standard when your independent variable has levels that are numeric, like distances or lengths. Want to customize this type of plot even more? See matplotlib's [scatter](https://matplotlib.org/stable/api/_as_gen/matplotlib.pyplot.scatter.html) and [errorbar](https://matplotlib.org/stable/api/_as_gen/matplotlib.pyplot.errorbar.html) pages.\n",
        "\n",
        "A **barplot** is more appropriate when your independent variable has levels that aren't numeric, like \"facing left\" and \"facing right\". Want to customize this type of plot even more? See matplotlib's [barplot](https://matplotlib.org/stable/api/_as_gen/matplotlib.pyplot.bar.html) page."
      ]
    },
    {
      "cell_type": "code",
      "execution_count": 38,
      "metadata": {
        "id": "GStXzMRaAsXm",
        "outputId": "cd6ded6e-f721-4653-eebf-6b70986613b6",
        "colab": {
          "base_uri": "https://localhost:8080/",
          "height": 295
        }
      },
      "outputs": [
        {
          "output_type": "display_data",
          "data": {
            "text/plain": [
              "<Figure size 432x288 with 1 Axes>"
            ],
            "image/png": "[encoded data removed]"
          },
          "metadata": {
            "needs_background": "light"
          }
        }
      ],
      "source": [
        "# here's a scatterplot for numeric IV levels\n",
        "\n",
        "# set up the values that get plotted\n",
        "x_values = [0, 5]\n",
        "y_values = [a_mean, b_mean]\n",
        "errorbars = [2*a_stunc, 2*b_stunc]  # this is totally wrong; edit this to be twice the std unc for a and b\n",
        "\n",
        "# this part makes the plot\n",
        "fig, ax = plt.subplots()\n",
        "ax.scatter(x_values, y_values)\n",
        "ax.errorbar(x_values, y_values, yerr=errorbars, ecolor='black', capsize=10, fmt='o')\n",
        "\n",
        "# edit these so your plot looks nice\n",
        "ax.set_xlabel('Trial distance (cm)')\n",
        "ax.set_ylabel('Field Stength Reading (uT)')\n",
        "ax.set_title('How Distance Affects Mean Field Strength')\n",
        "ax.set_xlim(-5,10)\n",
        "ax.set_ylim(80,170)\n",
        "ax.grid(False)\n",
        "plt.show()"
      ]
    },
    {
      "cell_type": "markdown",
      "metadata": {
        "id": "sS-JjsWhAsXp"
      },
      "source": [
        "<hr/>  \n",
        "\n",
        "# Credits\n",
        "This notebook was written by [Adam LaMee](http://www.adamlamee.com) with contributions by UCF graduate student Ifthakar Bin Elius. Thanks to the great folks at [Binder](https://mybinder.org/) and [Google Colaboratory](https://colab.research.google.com/notebooks/intro.ipynb) for making this notebook interactive without you needing to download it or install [Jupyter](https://jupyter.org/) on your own device."
      ]
    }
  ],
  "metadata": {
    "kernelspec": {
      "display_name": "Python 3 (ipykernel)",
      "language": "python",
      "name": "python3"
    },
    "language_info": {
      "codemirror_mode": {
        "name": "ipython",
        "version": 3
      },
      "file_extension": ".py",
      "mimetype": "text/x-python",
      "name": "python",
      "nbconvert_exporter": "python",
      "pygments_lexer": "ipython3",
      "version": "3.7.11"
    },
    "colab": {
      "name": "making_comparisons.ipynb",
      "provenance": [],
      "include_colab_link": true
    }
  },
  "nbformat": 4,
  "nbformat_minor": 0
}