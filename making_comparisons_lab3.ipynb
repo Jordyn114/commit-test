{
  "cells": [
    {
      "cell_type": "markdown",
      "metadata": {
        "id": "view-in-github",
        "colab_type": "text"
      },
      "source": [
        "<a href=\"https://colab.research.google.com/github/Jordyn114/commit-test/blob/master/making_comparisons_lab3.ipynb\" target=\"_parent\"><img src=\"https://colab.research.google.com/assets/colab-badge.svg\" alt=\"Open In Colab\"/></a>"
      ]
    },
    {
      "cell_type": "markdown",
      "metadata": {
        "id": "BPd18lW2UASx"
      },
      "source": [
        "If you're running this in Google Colab, you can click \"Copy to Drive\" (above &#8593;) or go to **File > Save a Copy in Drive** so you'll have your own version to work on. That requires a Google login.  \n",
        "<hr/>\n",
        "\n",
        "# Analyzing Measurement Uncertainty   \n",
        "We'll use Dr. Natasha Holmes's *Statistics Summary* (linked in the course website) as a guide for how to analyze data in this course. This notebook shows how to do use python to do the calculations in section II *Statistics for Repeated Measurements with Statistical Variation* and section III *Making Comparisons*.\n",
        "\n",
        "If you need to start over from scratch, open a [clean copy of this activity](https://colab.research.google.com/github/adamlamee/UCF_labs/blob/master/making_comparisons.ipynb). If you need a refresher on how to execute this notebook, try the [intro activity](https://colab.research.google.com/github/adamlamee/UCF_labs/blob/master/intro.ipynb).    \n",
        "\n",
        "## II. Statistics for Repeated Measurements with Statistical Variation"
      ]
    },
    {
      "cell_type": "code",
      "execution_count": 1,
      "metadata": {
        "id": "8-fsUaY8UAS5"
      },
      "outputs": [],
      "source": [
        "import numpy as np                   # numpy does math\n",
        "import matplotlib.pyplot as plt      # pyplot makes plots"
      ]
    },
    {
      "cell_type": "code",
      "execution_count": 3,
      "metadata": {
        "id": "sTDgVi7TUAS6",
        "outputId": "b6cb4550-831d-49f2-e334-45fca4ec0535",
        "colab": {
          "base_uri": "https://localhost:8080/",
          "height": 265
        }
      },
      "outputs": [
        {
          "output_type": "display_data",
          "data": {
            "text/plain": [
              "<Figure size 432x288 with 1 Axes>"
            ],
            "image/png": "[encoded data removed]"
          },
          "metadata": {
            "needs_background": "light"
          }
        }
      ],
      "source": [
        "# you can change the measurements and histogram properties\n",
        "# keep the same format (e.g., brackets and commas) to avoid errors\n",
        "\n",
        "sample_a = [147.86, 150.95, 148.97, 149.39, 155.03, 145.65, 147.98, 148.03, 147.70, 151.55]               # some measurements from sample A\n",
        "sample_b = [84.98, 85.89, 88.31, 85.86, 87.62, 88.79, 86.34, 87.47, 87.71, 86.25]               # some measurements from trial B to compare\n",
        "plt.hist((sample_a, sample_b), bins=5, range=[80,170], color=('pink','purple'));   # makes a histogram"
      ]
    },
    {
      "cell_type": "code",
      "execution_count": null,
      "metadata": {
        "id": "1syfc9e7UAS7",
        "outputId": "8e690b64-16d3-4e28-e264-6071e18bc3b8",
        "colab": {
          "base_uri": "https://localhost:8080/"
        }
      },
      "outputs": [
        {
          "output_type": "execute_result",
          "data": {
            "text/plain": [
              "149.311"
            ]
          },
          "metadata": {},
          "execution_count": 3
        }
      ],
      "source": [
        "a_mean = np.mean(sample_a)   # calculates the mean of sample a, saves it as a variable names \"a_mean\"\n",
        "a_mean                       # displays the mean value you just calculated"
      ]
    },
    {
      "cell_type": "code",
      "execution_count": null,
      "metadata": {
        "id": "IcNHnRPmUAS7",
        "outputId": "12f26aef-5cbb-427e-9674-7dd4ff99daeb",
        "colab": {
          "base_uri": "https://localhost:8080/"
        }
      },
      "outputs": [
        {
          "output_type": "execute_result",
          "data": {
            "text/plain": [
              "86.922"
            ]
          },
          "metadata": {},
          "execution_count": 4
        }
      ],
      "source": [
        "# try adding code here to find the mean of sample b\n",
        "# copy and paste are a programmers best friends, but rename your variables\n",
        "b_mean = np.mean(sample_b)\n",
        "b_mean"
      ]
    },
    {
      "cell_type": "code",
      "execution_count": null,
      "metadata": {
        "id": "C_xQ9uj4UAS8",
        "outputId": "bbbb3bf6-d0e9-44c6-a16c-eb5ef7d983bf",
        "colab": {
          "base_uri": "https://localhost:8080/"
        }
      },
      "outputs": [
        {
          "output_type": "execute_result",
          "data": {
            "text/plain": [
              "2.62562352382989"
            ]
          },
          "metadata": {},
          "execution_count": 5
        }
      ],
      "source": [
        "a_stdev = np.std(sample_a, ddof=1)      # finds the standard deviation\n",
        "a_stdev"
      ]
    },
    {
      "cell_type": "code",
      "execution_count": null,
      "metadata": {
        "id": "Ieo0LvlyUAS8",
        "outputId": "3804c3bc-b795-4a74-b7c3-667de3644125",
        "colab": {
          "base_uri": "https://localhost:8080/"
        }
      },
      "outputs": [
        {
          "output_type": "execute_result",
          "data": {
            "text/plain": [
              "1.2283213477479473"
            ]
          },
          "metadata": {},
          "execution_count": 6
        }
      ],
      "source": [
        "# try that again for sample b's standard deviation\n",
        "b_stdev = np.std(sample_b, ddof=1)\n",
        "b_stdev"
      ]
    },
    {
      "cell_type": "code",
      "execution_count": null,
      "metadata": {
        "id": "lzY4hKVKUAS9",
        "outputId": "26f33175-4628-46d0-ba59-948581899fa3",
        "colab": {
          "base_uri": "https://localhost:8080/"
        }
      },
      "outputs": [
        {
          "output_type": "execute_result",
          "data": {
            "text/plain": [
              "10"
            ]
          },
          "metadata": {},
          "execution_count": 7
        }
      ],
      "source": [
        "a_count = len(sample_a)      # \"a_count\" is now a variable with the number of observations in sample a\n",
        "a_count"
      ]
    },
    {
      "cell_type": "code",
      "execution_count": null,
      "metadata": {
        "id": "-D2I210sUAS9",
        "outputId": "371666fe-0d8d-4fe3-f2e6-451fd965375f",
        "colab": {
          "base_uri": "https://localhost:8080/"
        }
      },
      "outputs": [
        {
          "output_type": "execute_result",
          "data": {
            "text/plain": [
              "10"
            ]
          },
          "metadata": {},
          "execution_count": 8
        }
      ],
      "source": [
        "# now count the observations in sample b\n",
        "b_count = len(sample_b)\n",
        "b_count"
      ]
    },
    {
      "cell_type": "code",
      "execution_count": null,
      "metadata": {
        "id": "iRulVBA9UAS-",
        "outputId": "79c503ed-3cec-478a-f067-8e78f993d64a",
        "colab": {
          "base_uri": "https://localhost:8080/"
        }
      },
      "outputs": [
        {
          "output_type": "execute_result",
          "data": {
            "text/plain": [
              "0.8302950613419839"
            ]
          },
          "metadata": {},
          "execution_count": 9
        }
      ],
      "source": [
        "# finding standard uncertainty\n",
        "a_stunc = a_stdev / np.sqrt(a_count)       # python can do algebra\n",
        "a_stunc"
      ]
    },
    {
      "cell_type": "code",
      "execution_count": null,
      "metadata": {
        "id": "XjpFtZU7UAS_",
        "outputId": "a0b0a247-ec6a-4710-b81e-66615bcba9c1",
        "colab": {
          "base_uri": "https://localhost:8080/"
        }
      },
      "outputs": [
        {
          "output_type": "execute_result",
          "data": {
            "text/plain": [
              "0.38842931574912487"
            ]
          },
          "metadata": {},
          "execution_count": 10
        }
      ],
      "source": [
        "# how about sample b's standard uncertainty?\n",
        "b_stunc = b_stdev / np.sqrt(b_count)\n",
        "b_stunc"
      ]
    },
    {
      "cell_type": "markdown",
      "metadata": {
        "id": "jZJl3zFjUAS_"
      },
      "source": [
        "## III. Comparing Means"
      ]
    },
    {
      "cell_type": "code",
      "execution_count": null,
      "metadata": {
        "id": "C-TgcJiHUAS_",
        "outputId": "3c9fd15e-7f3a-48fb-a221-1bcaff56c0b1",
        "colab": {
          "base_uri": "https://localhost:8080/"
        }
      },
      "outputs": [
        {
          "output_type": "execute_result",
          "data": {
            "text/plain": [
              "68.06115476562043"
            ]
          },
          "metadata": {},
          "execution_count": 11
        }
      ],
      "source": [
        "# t' statistic\n",
        "# for the code below to work, you'll need to have done the calculations for sample b above, too\n",
        "t_prime = abs((a_mean - b_mean) / np.sqrt(a_stunc**2 + b_stunc**2))\n",
        "t_prime"
      ]
    },
    {
      "cell_type": "markdown",
      "metadata": {
        "id": "1Pb9BtNIUATA"
      },
      "source": [
        "Nicely done. If you found a t' of about 1.1, congrats! If not, check your math or start over with a [clean copy of this activity](https://colab.research.google.com/github/adamlamee/UCF_labs/blob/master/making_comparisons.ipynb).  \n",
        "\n",
        "\n",
        "# IV. Plotting the Results  \n",
        "Two options for plotting your data are given below.\n",
        "\n",
        "A **scatterplot** is pretty standard when your independent variable has levels that are numeric, like distances or lengths. Want to customize this type of plot even more? See matplotlib's [scatter](https://matplotlib.org/stable/api/_as_gen/matplotlib.pyplot.scatter.html) and [errorbar](https://matplotlib.org/stable/api/_as_gen/matplotlib.pyplot.errorbar.html) pages.\n",
        "\n",
        "A **barplot** is more appropriate when your independent variable has levels that aren't numeric, like \"facing left\" and \"facing right\". Want to customize this type of plot even more? See matplotlib's [barplot](https://matplotlib.org/stable/api/_as_gen/matplotlib.pyplot.bar.html) page."
      ]
    },
    {
      "cell_type": "code",
      "execution_count": null,
      "metadata": {
        "id": "FuDu0FokUATA",
        "outputId": "90e25317-d06c-4cde-9339-7af7816cf19a",
        "colab": {
          "base_uri": "https://localhost:8080/",
          "height": 295
        }
      },
      "outputs": [
        {
          "output_type": "display_data",
          "data": {
            "text/plain": [
              "<Figure size 432x288 with 1 Axes>"
            ],
            "image/png": "[encoded data removed]"
          },
          "metadata": {
            "needs_background": "light"
          }
        }
      ],
      "source": [
        "# here's a scatterplot for numeric IV levels\n",
        "\n",
        "# set up the values that get plotted\n",
        "x_values = [0,5]\n",
        "y_values = [a_mean, b_mean]\n",
        "errorbars = [2*a_stdev, 2*b_stdev]  # this is totally wrong; edit this to be twice the std unc for a and b\n",
        "\n",
        "# this part makes the plot\n",
        "fig, ax = plt.subplots()\n",
        "ax.scatter(x_values, y_values)\n",
        "ax.errorbar(x_values, y_values, yerr=errorbars, ecolor='black', capsize=10, fmt='o')\n",
        "\n",
        "# edit these so your plot looks nice\n",
        "ax.set_xlabel('Trial Distance (cm)')\n",
        "ax.set_ylabel('Field Strength Reading (uT)')\n",
        "ax.set_title('How Distance Affects Mean Field Strength')\n",
        "ax.set_xlim(-5,10)\n",
        "ax.set_ylim(70,160)\n",
        "ax.grid(False)\n",
        "plt.show()"
      ]
    },
    {
      "cell_type": "markdown",
      "metadata": {
        "id": "HXpr3ZiiUATB"
      },
      "source": [
        "<hr/>  \n",
        "\n",
        "# Credits\n",
        "This notebook was written by [Adam LaMee](http://www.adamlamee.com) with contributions by UCF graduate student Ifthakar Bin Elius. Thanks to the great folks at [Binder](https://mybinder.org/) and [Google Colaboratory](https://colab.research.google.com/notebooks/intro.ipynb) for making this notebook interactive without you needing to download it or install [Jupyter](https://jupyter.org/) on your own device."
      ]
    }
  ],
  "metadata": {
    "kernelspec": {
      "display_name": "Python 3 (ipykernel)",
      "language": "python",
      "name": "python3"
    },
    "language_info": {
      "codemirror_mode": {
        "name": "ipython",
        "version": 3
      },
      "file_extension": ".py",
      "mimetype": "text/x-python",
      "name": "python",
      "nbconvert_exporter": "python",
      "pygments_lexer": "ipython3",
      "version": "3.7.11"
    },
    "colab": {
      "name": "Copy of making_comparisons_lab3.ipynb",
      "provenance": [],
      "collapsed_sections": [],
      "include_colab_link": true
    }
  },
  "nbformat": 4,
  "nbformat_minor": 0
}